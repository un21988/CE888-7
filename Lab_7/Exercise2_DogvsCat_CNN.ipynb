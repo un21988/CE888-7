{
  "nbformat": 4,
  "nbformat_minor": 0,
  "metadata": {
    "colab": {
      "name": "Exercise2_DogvsCat_CNN.ipynb",
      "provenance": [],
      "include_colab_link": true
    },
    "kernelspec": {
      "name": "python3",
      "display_name": "Python 3"
    },
    "accelerator": "GPU"
  },
  "cells": [
    {
      "cell_type": "markdown",
      "metadata": {
        "id": "view-in-github",
        "colab_type": "text"
      },
      "source": [
        "<a href=\"https://colab.research.google.com/github/un21988/CE888-7/blob/main/Lab_7/Exercise2_DogvsCat_CNN.ipynb\" target=\"_parent\"><img src=\"https://colab.research.google.com/assets/colab-badge.svg\" alt=\"Open In Colab\"/></a>"
      ]
    },
    {
      "cell_type": "markdown",
      "metadata": {
        "id": "qTh9DiKVslsJ"
      },
      "source": [
        "## Dogs vs. Cats \n",
        "\n",
        "In this competition, you'll write an algorithm to classify whether images contain either a dog or a cat.  This is easy for humans, dogs, and cats. Your computer will find it a bit more difficult.\n",
        "\n",
        "![alt text](https://miro.medium.com/max/3000/1*bhFifratH9DjKqMBTeQG5A.gif)\n",
        "\n",
        "Ref: https://medium.com/@thegrigorian/rolling-in-the-deep-cnn-c8d3f7108c8c"
      ]
    },
    {
      "cell_type": "markdown",
      "metadata": {
        "id": "RSBI-_mSSY1g"
      },
      "source": [
        "Get your API Key from Kaggle using following steps:\n",
        "1. Login to [Kaggle](https://www.kaggle.com/) or Register if you don't have account\n",
        "2. Open Dataset (https://www.kaggle.com/c/dogs-vs-cats/rules) and accept terms and condition. \n",
        "3. On the top right corner click on your Icon and go to accounts and press a button \"Create New API Token\". It will download a JSON file containing your username and key. \n",
        "4. Now, paste both below. \n"
      ]
    },
    {
      "cell_type": "code",
      "metadata": {
        "colab": {
          "base_uri": "https://localhost:8080/"
        },
        "id": "Shb4ZX0cQmjG",
        "outputId": "1d41515f-d7e5-4b34-a633-f9f7917e378d"
      },
      "source": [
        "!pip install kaggle"
      ],
      "execution_count": 4,
      "outputs": [
        {
          "output_type": "stream",
          "text": [
            "Requirement already satisfied: kaggle in /usr/local/lib/python3.7/dist-packages (1.5.12)\n",
            "Requirement already satisfied: python-slugify in /usr/local/lib/python3.7/dist-packages (from kaggle) (4.0.1)\n",
            "Requirement already satisfied: certifi in /usr/local/lib/python3.7/dist-packages (from kaggle) (2020.12.5)\n",
            "Requirement already satisfied: tqdm in /usr/local/lib/python3.7/dist-packages (from kaggle) (4.41.1)\n",
            "Requirement already satisfied: python-dateutil in /usr/local/lib/python3.7/dist-packages (from kaggle) (2.8.1)\n",
            "Requirement already satisfied: requests in /usr/local/lib/python3.7/dist-packages (from kaggle) (2.23.0)\n",
            "Requirement already satisfied: urllib3 in /usr/local/lib/python3.7/dist-packages (from kaggle) (1.24.3)\n",
            "Requirement already satisfied: six>=1.10 in /usr/local/lib/python3.7/dist-packages (from kaggle) (1.15.0)\n",
            "Requirement already satisfied: text-unidecode>=1.3 in /usr/local/lib/python3.7/dist-packages (from python-slugify->kaggle) (1.3)\n",
            "Requirement already satisfied: idna<3,>=2.5 in /usr/local/lib/python3.7/dist-packages (from requests->kaggle) (2.10)\n",
            "Requirement already satisfied: chardet<4,>=3.0.2 in /usr/local/lib/python3.7/dist-packages (from requests->kaggle) (3.0.4)\n"
          ],
          "name": "stdout"
        }
      ]
    },
    {
      "cell_type": "code",
      "metadata": {
        "id": "YmXSOc0tZIGA",
        "colab": {
          "base_uri": "https://localhost:8080/"
        },
        "outputId": "08514afd-b404-4863-8590-32e17293061e"
      },
      "source": [
        "import os\n",
        "os.environ['KAGGLE_USERNAME'] = \"usamabasra1122\" # username from the json file\n",
        "os.environ['KAGGLE_KEY'] = \"2a42a104f15c445a57794861ce8d1aa1\" # key from the json file\n",
        "!kaggle competitions download -c dogs-vs-cats # api copied from kaggle (https://www.kaggle.com/c/dogs-vs-cats/data)"
      ],
      "execution_count": 5,
      "outputs": [
        {
          "output_type": "stream",
          "text": [
            "Warning: Looks like you're using an outdated API Version, please consider updating (server 1.5.12 / client 1.5.4)\n",
            "test1.zip: Skipping, found more recently modified local copy (use --force to force download)\n",
            "train.zip: Skipping, found more recently modified local copy (use --force to force download)\n",
            "sampleSubmission.csv: Skipping, found more recently modified local copy (use --force to force download)\n"
          ],
          "name": "stdout"
        }
      ]
    },
    {
      "cell_type": "code",
      "metadata": {
        "id": "PiwIL8d1n7eS",
        "colab": {
          "base_uri": "https://localhost:8080/"
        },
        "outputId": "37dcfed7-720a-41d7-e4b1-9744c7b77a98"
      },
      "source": [
        "# Unzip training data\n",
        "from zipfile import ZipFile\n",
        "file_name = \"/content/train.zip\"\n",
        "with ZipFile(file_name, 'r') as zip:\n",
        "  zip.extractall()\n",
        "  print('done')"
      ],
      "execution_count": 6,
      "outputs": [
        {
          "output_type": "stream",
          "text": [
            "done\n"
          ],
          "name": "stdout"
        }
      ]
    },
    {
      "cell_type": "code",
      "metadata": {
        "id": "sa2Bj5i7pPKV",
        "colab": {
          "base_uri": "https://localhost:8080/"
        },
        "outputId": "0aef4bf6-ae37-446e-9c79-995035e23995"
      },
      "source": [
        "# Get all the paths\n",
        "data_dir_list = os.listdir('/content/train')\n",
        "#print(data_dir_list)\n",
        "path, dirs, files = next(os.walk(\"/content/train\"))\n",
        "file_count = len(files)\n",
        "print(file_count)"
      ],
      "execution_count": 7,
      "outputs": [
        {
          "output_type": "stream",
          "text": [
            "25000\n"
          ],
          "name": "stdout"
        }
      ]
    },
    {
      "cell_type": "code",
      "metadata": {
        "id": "0ERlHkfHqpK8"
      },
      "source": [
        "# Make new base directory\n",
        "original_dataset_dir = '/content/train'\n",
        "base_dir = '/content/cats_and_dogs_small'\n",
        "os.mkdir(base_dir)"
      ],
      "execution_count": 8,
      "outputs": []
    },
    {
      "cell_type": "code",
      "metadata": {
        "id": "AANB1UJ6rQhM"
      },
      "source": [
        "train_dir = os.path.join(base_dir, 'train')\n",
        "os.mkdir(train_dir)\n",
        "\n",
        "validation_dir = os.path.join(base_dir, 'validation')\n",
        "os.mkdir(validation_dir)\n",
        "\n",
        "test_dir = os.path.join(base_dir, 'test')\n",
        "os.mkdir(test_dir)\n",
        "\n",
        "train_cats_dir = os.path.join(train_dir, 'cats')\n",
        "os.mkdir(train_cats_dir)\n",
        "\n",
        "train_dogs_dir = os.path.join(train_dir, 'dogs')\n",
        "os.mkdir(train_dogs_dir)\n",
        "\n",
        "validation_cats_dir = os.path.join(validation_dir, 'cats')\n",
        "os.mkdir(validation_cats_dir)\n",
        "\n",
        "validation_dogs_dir = os.path.join(validation_dir, 'dogs')\n",
        "os.mkdir(validation_dogs_dir)\n",
        "\n",
        "test_cats_dir = os.path.join(test_dir, 'cats')\n",
        "os.mkdir(test_cats_dir)\n",
        "\n",
        "test_dogs_dir = os.path.join(test_dir, 'dogs')\n",
        "os.mkdir(test_dogs_dir)"
      ],
      "execution_count": 9,
      "outputs": []
    },
    {
      "cell_type": "code",
      "metadata": {
        "id": "ULRgL9s9rV8T"
      },
      "source": [
        "import shutil\n",
        "fnames = ['cat.{}.jpg'.format(i) for i in range(1000)]\n",
        "for fname in fnames:\n",
        "    src = os.path.join(original_dataset_dir, fname)\n",
        "    dst = os.path.join(train_cats_dir, fname)\n",
        "    #print(src,dst)\n",
        "    shutil.copyfile(src, dst)\n",
        "    \n",
        "fnames = ['cat.{}.jpg'.format(i) for i in range(1000, 1500)]\n",
        "for fname in fnames:\n",
        "    src = os.path.join(original_dataset_dir, fname)\n",
        "    dst = os.path.join(validation_cats_dir, fname)\n",
        "    shutil.copyfile(src, dst)\n",
        "\n",
        "fnames = ['cat.{}.jpg'.format(i) for i in range(1500, 2000)]\n",
        "for fname in fnames:\n",
        "    src = os.path.join(original_dataset_dir, fname)\n",
        "    dst = os.path.join(test_cats_dir, fname)\n",
        "    shutil.copyfile(src, dst)\n",
        "    \n",
        "fnames = ['dog.{}.jpg'.format(i) for i in range(1000)]\n",
        "for fname in fnames:\n",
        "    src = os.path.join(original_dataset_dir, fname)\n",
        "    dst = os.path.join(train_dogs_dir, fname)\n",
        "    shutil.copyfile(src, dst)\n",
        "\n",
        "fnames = ['dog.{}.jpg'.format(i) for i in range(1000, 1500)]\n",
        "for fname in fnames:\n",
        "    src = os.path.join(original_dataset_dir, fname)\n",
        "    dst = os.path.join(validation_dogs_dir, fname)\n",
        "    shutil.copyfile(src, dst)\n",
        "\n",
        "fnames = ['dog.{}.jpg'.format(i) for i in range(1500, 2000)]\n",
        "for fname in fnames:\n",
        "    src = os.path.join(original_dataset_dir, fname)\n",
        "    dst = os.path.join(test_dogs_dir, fname)\n",
        "    shutil.copyfile(src, dst)"
      ],
      "execution_count": 10,
      "outputs": []
    },
    {
      "cell_type": "code",
      "metadata": {
        "id": "ul3XAbIyr7vC",
        "colab": {
          "base_uri": "https://localhost:8080/"
        },
        "outputId": "ef66e9a6-771f-4f65-f976-b9f31d6f6b69"
      },
      "source": [
        "print('total training cat images:', len(os.listdir(train_cats_dir)))\n",
        "print('total training dog images:', len(os.listdir(train_dogs_dir)))\n",
        "print('total validation cat images:', len(os.listdir(validation_cats_dir)))\n",
        "\n",
        "print('total validation dog images:', len(os.listdir(validation_dogs_dir)))\n",
        "print('total test cat images:', len(os.listdir(test_cats_dir)))\n",
        "print('total test dog images:', len(os.listdir(test_dogs_dir)))"
      ],
      "execution_count": 11,
      "outputs": [
        {
          "output_type": "stream",
          "text": [
            "total training cat images: 1000\n",
            "total training dog images: 1000\n",
            "total validation cat images: 500\n",
            "total validation dog images: 500\n",
            "total test cat images: 500\n",
            "total test dog images: 500\n"
          ],
          "name": "stdout"
        }
      ]
    },
    {
      "cell_type": "code",
      "metadata": {
        "id": "o9yTA21_r-ma",
        "colab": {
          "base_uri": "https://localhost:8080/"
        },
        "outputId": "089e23b2-e517-4a35-cbe9-677c5f68b8d0"
      },
      "source": [
        "from keras import layers\n",
        "from keras import models\n",
        "\n",
        "model = models.Sequential()\n",
        "model.add(layers.Conv2D(32, (3, 3), activation='relu', input_shape=(150, 150, 3)))\n",
        "model.add(layers.MaxPooling2D((2, 2)))\n",
        "model.add(layers.Conv2D(64, (3, 3), activation='relu'))\n",
        "model.add(layers.MaxPooling2D((2, 2)))\n",
        "model.add(layers.Conv2D(128, (3, 3), activation='relu'))\n",
        "model.add(layers.MaxPooling2D((2, 2)))\n",
        "model.add(layers.Conv2D(128, (3, 3), activation='relu'))\n",
        "model.add(layers.MaxPooling2D((2, 2)))\n",
        "model.add(layers.Flatten())\n",
        "model.add(layers.Dense(512, activation='relu'))\n",
        "model.add(layers.Dense(1, activation='sigmoid'))\n",
        "model.summary()"
      ],
      "execution_count": 21,
      "outputs": [
        {
          "output_type": "stream",
          "text": [
            "Model: \"sequential_3\"\n",
            "_________________________________________________________________\n",
            "Layer (type)                 Output Shape              Param #   \n",
            "=================================================================\n",
            "conv2d_12 (Conv2D)           (None, 148, 148, 32)      896       \n",
            "_________________________________________________________________\n",
            "max_pooling2d_12 (MaxPooling (None, 74, 74, 32)        0         \n",
            "_________________________________________________________________\n",
            "conv2d_13 (Conv2D)           (None, 72, 72, 64)        18496     \n",
            "_________________________________________________________________\n",
            "max_pooling2d_13 (MaxPooling (None, 36, 36, 64)        0         \n",
            "_________________________________________________________________\n",
            "conv2d_14 (Conv2D)           (None, 34, 34, 128)       73856     \n",
            "_________________________________________________________________\n",
            "max_pooling2d_14 (MaxPooling (None, 17, 17, 128)       0         \n",
            "_________________________________________________________________\n",
            "conv2d_15 (Conv2D)           (None, 15, 15, 128)       147584    \n",
            "_________________________________________________________________\n",
            "max_pooling2d_15 (MaxPooling (None, 7, 7, 128)         0         \n",
            "_________________________________________________________________\n",
            "flatten_3 (Flatten)          (None, 6272)              0         \n",
            "_________________________________________________________________\n",
            "dense_6 (Dense)              (None, 512)               3211776   \n",
            "_________________________________________________________________\n",
            "dense_7 (Dense)              (None, 1)                 513       \n",
            "=================================================================\n",
            "Total params: 3,453,121\n",
            "Trainable params: 3,453,121\n",
            "Non-trainable params: 0\n",
            "_________________________________________________________________\n"
          ],
          "name": "stdout"
        }
      ]
    },
    {
      "cell_type": "code",
      "metadata": {
        "id": "2mG8wekxsBVS"
      },
      "source": [
        "from keras import optimizers\n",
        "model.compile(loss='binary_crossentropy', \n",
        "              optimizer=optimizers.RMSprop(lr=1e-4),\n",
        "              metrics=['acc'])"
      ],
      "execution_count": 13,
      "outputs": []
    },
    {
      "cell_type": "markdown",
      "metadata": {
        "id": "7zS4Klm8qWp6"
      },
      "source": [
        "## Using ImageDataGenerator to read images from directories\n",
        "As you know by now, data should be formatted into appropriately preprocessed floatingpoint tensors before being fed into the network. Currently, the data sits on a drive as JPEG files, so the steps for getting it into the network are roughly as follows:\n",
        "\n",
        "* Read the picture files.\n",
        "* Decode the JPEG content to RGB grids of pixels.\n",
        "* Convert these into floating-point tensors.\n",
        "* Rescale the pixel values (between 0 and 255) to the [0, 1] interval (as you know, neural networks prefer to deal with small input values).\n",
        "\n",
        "It may seem a bit daunting, but fortunately Keras has utilities to take care of these steps automatically. Keras has a module with image-processing helper tools, located at keras.preprocessing.image. In particular, it contains the class ImageDataGenerator,which lets you quickly set up Python generators that can automatically turn image files on disk into batches of preprocessed tensors."
      ]
    },
    {
      "cell_type": "code",
      "metadata": {
        "id": "XJ7XU7t9sEh6",
        "colab": {
          "base_uri": "https://localhost:8080/"
        },
        "outputId": "5a5764b4-a9d8-4649-a6dd-2413a61684b3"
      },
      "source": [
        "from keras.preprocessing.image import ImageDataGenerator\n",
        "\n",
        "train_datagen = ImageDataGenerator(rescale=1./255)\n",
        "test_datagen = ImageDataGenerator(rescale=1./255)\n",
        "\n",
        "train_generator = train_datagen.flow_from_directory(train_dir,\n",
        "                                                    target_size=(150, 150), \n",
        "                                                    batch_size=20,\n",
        "                                                    class_mode='binary')\n",
        "\n",
        "validation_generator = test_datagen.flow_from_directory(validation_dir,\n",
        "                                                        target_size=(150, 150),\n",
        "                                                        batch_size=20,\n",
        "                                                        class_mode='binary')"
      ],
      "execution_count": 14,
      "outputs": [
        {
          "output_type": "stream",
          "text": [
            "Found 2000 images belonging to 2 classes.\n",
            "Found 1000 images belonging to 2 classes.\n"
          ],
          "name": "stdout"
        }
      ]
    },
    {
      "cell_type": "markdown",
      "metadata": {
        "id": "SEgLywySqm4u"
      },
      "source": [
        "Let’s fit the model to the data using the generator. You do so using the fit_generator method, the equivalent of fit for data generators like this one. It expects as its first argument a Python generator that will yield batches of inputs and targets indefinitely,like this one does. Because the data is being generated endlessly, the Keras model needs to know how many samples to draw from the generator before declaring anepoch over. This is the role of the `steps_per_epoch` argument: after having drawn `steps_per_epoch` batches from the generator—that is, after having run for `steps_per_epoch` gradient descent steps—the fitting process will go to the next epoch. In this case, batches are 20 samples, so it will take 100 batches until you see your target of 2,000 samples.\n",
        "\n",
        "When using fit_generator, you can pass a validation_data argument, much as with the fit method. It’s important to note that this argument is allowed to be a data generator, but it could also be a tuple of Numpy arrays. If you pass a generator as validation_data, then this generator is expected to yield batches of validation data endlessly; thus you should also specify the validation_steps argument, which tells the process how many batches to draw from the validation generator for evaluation."
      ]
    },
    {
      "cell_type": "code",
      "metadata": {
        "id": "yMyfPphJsJG6",
        "colab": {
          "base_uri": "https://localhost:8080/"
        },
        "outputId": "91d39d1c-4365-42ef-f7ce-7273d4fd1e29"
      },
      "source": [
        "history = model.fit_generator(train_generator,\n",
        "                              steps_per_epoch=100,\n",
        "                              epochs=30,\n",
        "                              validation_data=validation_generator,\n",
        "                              validation_steps=10)"
      ],
      "execution_count": 15,
      "outputs": [
        {
          "output_type": "stream",
          "text": [
            "/usr/local/lib/python3.7/dist-packages/tensorflow/python/keras/engine/training.py:1844: UserWarning: `Model.fit_generator` is deprecated and will be removed in a future version. Please use `Model.fit`, which supports generators.\n",
            "  warnings.warn('`Model.fit_generator` is deprecated and '\n"
          ],
          "name": "stderr"
        },
        {
          "output_type": "stream",
          "text": [
            "Epoch 1/30\n",
            "100/100 [==============================] - 40s 69ms/step - loss: 0.6943 - acc: 0.5110 - val_loss: 0.6723 - val_acc: 0.6050\n",
            "Epoch 2/30\n",
            "100/100 [==============================] - 7s 66ms/step - loss: 0.6605 - acc: 0.6333 - val_loss: 0.6273 - val_acc: 0.6850\n",
            "Epoch 3/30\n",
            "100/100 [==============================] - 6s 64ms/step - loss: 0.6010 - acc: 0.6813 - val_loss: 0.6308 - val_acc: 0.6300\n",
            "Epoch 4/30\n",
            "100/100 [==============================] - 6s 65ms/step - loss: 0.5386 - acc: 0.7378 - val_loss: 0.5934 - val_acc: 0.6900\n",
            "Epoch 5/30\n",
            "100/100 [==============================] - 7s 66ms/step - loss: 0.5318 - acc: 0.7230 - val_loss: 0.6018 - val_acc: 0.6850\n",
            "Epoch 6/30\n",
            "100/100 [==============================] - 7s 65ms/step - loss: 0.5140 - acc: 0.7382 - val_loss: 0.6237 - val_acc: 0.6600\n",
            "Epoch 7/30\n",
            "100/100 [==============================] - 7s 65ms/step - loss: 0.4813 - acc: 0.7639 - val_loss: 0.5861 - val_acc: 0.7050\n",
            "Epoch 8/30\n",
            "100/100 [==============================] - 7s 66ms/step - loss: 0.4454 - acc: 0.7852 - val_loss: 0.5662 - val_acc: 0.7100\n",
            "Epoch 9/30\n",
            "100/100 [==============================] - 6s 65ms/step - loss: 0.4114 - acc: 0.8208 - val_loss: 0.5980 - val_acc: 0.7150\n",
            "Epoch 10/30\n",
            "100/100 [==============================] - 7s 65ms/step - loss: 0.4031 - acc: 0.8034 - val_loss: 0.5811 - val_acc: 0.7000\n",
            "Epoch 11/30\n",
            "100/100 [==============================] - 7s 67ms/step - loss: 0.3678 - acc: 0.8421 - val_loss: 0.4909 - val_acc: 0.7800\n",
            "Epoch 12/30\n",
            "100/100 [==============================] - 7s 66ms/step - loss: 0.3572 - acc: 0.8393 - val_loss: 0.5442 - val_acc: 0.6850\n",
            "Epoch 13/30\n",
            "100/100 [==============================] - 7s 66ms/step - loss: 0.3051 - acc: 0.8863 - val_loss: 0.5810 - val_acc: 0.7200\n",
            "Epoch 14/30\n",
            "100/100 [==============================] - 7s 66ms/step - loss: 0.2879 - acc: 0.8748 - val_loss: 0.5742 - val_acc: 0.7200\n",
            "Epoch 15/30\n",
            "100/100 [==============================] - 7s 65ms/step - loss: 0.2705 - acc: 0.8999 - val_loss: 0.5859 - val_acc: 0.7350\n",
            "Epoch 16/30\n",
            "100/100 [==============================] - 7s 66ms/step - loss: 0.2549 - acc: 0.8961 - val_loss: 0.6882 - val_acc: 0.7050\n",
            "Epoch 17/30\n",
            "100/100 [==============================] - 7s 66ms/step - loss: 0.2310 - acc: 0.9140 - val_loss: 0.5389 - val_acc: 0.7500\n",
            "Epoch 18/30\n",
            "100/100 [==============================] - 7s 66ms/step - loss: 0.2186 - acc: 0.9197 - val_loss: 0.7638 - val_acc: 0.7200\n",
            "Epoch 19/30\n",
            "100/100 [==============================] - 7s 66ms/step - loss: 0.2017 - acc: 0.9258 - val_loss: 0.7424 - val_acc: 0.7000\n",
            "Epoch 20/30\n",
            "100/100 [==============================] - 7s 65ms/step - loss: 0.1749 - acc: 0.9504 - val_loss: 0.6264 - val_acc: 0.7450\n",
            "Epoch 21/30\n",
            "100/100 [==============================] - 7s 66ms/step - loss: 0.1533 - acc: 0.9483 - val_loss: 0.6907 - val_acc: 0.7450\n",
            "Epoch 22/30\n",
            "100/100 [==============================] - 7s 65ms/step - loss: 0.1330 - acc: 0.9579 - val_loss: 0.6651 - val_acc: 0.7450\n",
            "Epoch 23/30\n",
            "100/100 [==============================] - 7s 67ms/step - loss: 0.1191 - acc: 0.9634 - val_loss: 1.1692 - val_acc: 0.6850\n",
            "Epoch 24/30\n",
            "100/100 [==============================] - 7s 66ms/step - loss: 0.1117 - acc: 0.9599 - val_loss: 0.7736 - val_acc: 0.7750\n",
            "Epoch 25/30\n",
            "100/100 [==============================] - 7s 66ms/step - loss: 0.0838 - acc: 0.9730 - val_loss: 0.5940 - val_acc: 0.7850\n",
            "Epoch 26/30\n",
            "100/100 [==============================] - 7s 66ms/step - loss: 0.0793 - acc: 0.9814 - val_loss: 0.5789 - val_acc: 0.7700\n",
            "Epoch 27/30\n",
            "100/100 [==============================] - 7s 66ms/step - loss: 0.0655 - acc: 0.9816 - val_loss: 0.7077 - val_acc: 0.7500\n",
            "Epoch 28/30\n",
            "100/100 [==============================] - 7s 65ms/step - loss: 0.0635 - acc: 0.9780 - val_loss: 0.9006 - val_acc: 0.7350\n",
            "Epoch 29/30\n",
            "100/100 [==============================] - 7s 65ms/step - loss: 0.0498 - acc: 0.9901 - val_loss: 1.1823 - val_acc: 0.6800\n",
            "Epoch 30/30\n",
            "100/100 [==============================] - 7s 66ms/step - loss: 0.0478 - acc: 0.9863 - val_loss: 1.0720 - val_acc: 0.7000\n"
          ],
          "name": "stdout"
        }
      ]
    },
    {
      "cell_type": "code",
      "metadata": {
        "id": "MZaZ2HWZsNUi",
        "colab": {
          "base_uri": "https://localhost:8080/",
          "height": 545
        },
        "outputId": "ef256f4d-0c94-4197-fff9-3b6552c7f6c3"
      },
      "source": [
        "model.save('cats_and_dogs_small_1.h5')\n",
        "\n",
        "import matplotlib.pyplot as plt\n",
        "\n",
        "acc = history.history['acc']\n",
        "val_acc = history.history['val_acc']\n",
        "loss = history.history['loss']\n",
        "val_loss = history.history['val_loss']\n",
        "\n",
        "epochs = range(1, len(acc) + 1)\n",
        "\n",
        "plt.plot(epochs, acc, 'bo', label='Training acc')\n",
        "plt.plot(epochs, val_acc, 'b', label='Validation acc')\n",
        "plt.title('Training and validation accuracy')\n",
        "plt.legend()\n",
        "\n",
        "plt.figure()\n",
        "\n",
        "plt.plot(epochs, loss, 'bo', label='Training loss')\n",
        "plt.plot(epochs, val_loss, 'b', label='Validation loss')\n",
        "plt.title('Training and validation loss')\n",
        "plt.legend()\n",
        "\n",
        "plt.show()"
      ],
      "execution_count": 16,
      "outputs": [
        {
          "output_type": "display_data",
          "data": {
            "image/png": "[encoded data removed]",
            "text/plain": [
              "<Figure size 432x288 with 1 Axes>"
            ]
          },
          "metadata": {
            "tags": [],
            "needs_background": "light"
          }
        },
        {
          "output_type": "display_data",
          "data": {
            "image/png": "[encoded data removed]",
            "text/plain": [
              "<Figure size 432x288 with 1 Axes>"
            ]
          },
          "metadata": {
            "tags": [],
            "needs_background": "light"
          }
        }
      ]
    },
    {
      "cell_type": "markdown",
      "metadata": {
        "id": "XKZmXmBcq_8-"
      },
      "source": [
        "## Convolutional Networks with Dropout\n",
        "\n",
        "![alt text](https://camo.githubusercontent.com/ee6fa1073247cd2c3d241300caf110d7a7541bc5/68747470733a2f2f63646e2d696d616765732d312e6d656469756d2e636f6d2f6d61782f3830302f312a4972644a355067684439596f4f7956415137334d4a772e676966)\n",
        "\n",
        "Ref: https://github.com/mneha4/Training-Neural-Nets---Guidelines"
      ]
    },
    {
      "cell_type": "code",
      "metadata": {
        "id": "wu3cqeYQrDeN"
      },
      "source": [
        "model = models.Sequential()\n",
        "model.add(layers.Conv2D(32, (3, 3), activation='relu',\n",
        "input_shape=(150, 150, 3)))\n",
        "model.add(layers.MaxPooling2D((2, 2)))\n",
        "model.add(layers.Conv2D(64, (3, 3), activation='relu'))\n",
        "model.add(layers.MaxPooling2D((2, 2)))\n",
        "model.add(layers.Conv2D(128, (3, 3), activation='relu'))\n",
        "model.add(layers.MaxPooling2D((2, 2)))\n",
        "model.add(layers.Conv2D(128, (3, 3), activation='relu'))\n",
        "model.add(layers.MaxPooling2D((2, 2)))\n",
        "model.add(layers.Flatten())\n",
        "model.add(layers.Dropout(0.5))\n",
        "model.add(layers.Dense(512, activation='relu'))\n",
        "model.add(layers.Dense(1, activation='sigmoid'))\n",
        "\n",
        "model.compile(loss='binary_crossentropy',\n",
        "              optimizer=optimizers.RMSprop(lr=1e-4),\n",
        "              metrics=['acc'])"
      ],
      "execution_count": 17,
      "outputs": []
    },
    {
      "cell_type": "code",
      "metadata": {
        "id": "QSeLpvY0rH7F",
        "colab": {
          "base_uri": "https://localhost:8080/"
        },
        "outputId": "09625f9d-0e64-49c2-f7ba-c3fb289a228b"
      },
      "source": [
        "\n",
        "train_datagen = ImageDataGenerator(rescale=1./255,\n",
        "                                   rotation_range=40,\n",
        "                                   width_shift_range=0.2,\n",
        "                                   height_shift_range=0.2,\n",
        "                                   shear_range=0.2,\n",
        "                                   zoom_range=0.2,\n",
        "                                   horizontal_flip=True,)\n",
        "\n",
        "test_datagen = ImageDataGenerator(rescale=1./255)\n",
        "\n",
        "train_generator = train_datagen.flow_from_directory(train_dir,\n",
        "                                                    target_size=(150, 150),\n",
        "                                                    batch_size=32,\n",
        "                                                    class_mode='binary')\n",
        "\n",
        "validation_generator = test_datagen.flow_from_directory(validation_dir,\n",
        "                                                        target_size=(150, 150),\n",
        "                                                        batch_size=32,\n",
        "                                                        class_mode='binary')\n",
        "\n",
        "history = model.fit_generator(train_generator,\n",
        "                              steps_per_epoch=100,\n",
        "                              epochs=20,\n",
        "                              validation_data=validation_generator,\n",
        "                              validation_steps=50)"
      ],
      "execution_count": 18,
      "outputs": [
        {
          "output_type": "stream",
          "text": [
            "Found 2000 images belonging to 2 classes.\n",
            "Found 1000 images belonging to 2 classes.\n"
          ],
          "name": "stdout"
        },
        {
          "output_type": "stream",
          "text": [
            "/usr/local/lib/python3.7/dist-packages/tensorflow/python/keras/engine/training.py:1844: UserWarning: `Model.fit_generator` is deprecated and will be removed in a future version. Please use `Model.fit`, which supports generators.\n",
            "  warnings.warn('`Model.fit_generator` is deprecated and '\n"
          ],
          "name": "stderr"
        },
        {
          "output_type": "stream",
          "text": [
            "Epoch 1/20\n",
            " 63/100 [=================>............] - ETA: 8s - loss: 0.6956 - acc: 0.5199WARNING:tensorflow:Your input ran out of data; interrupting training. Make sure that your dataset or generator can generate at least `steps_per_epoch * epochs` batches (in this case, 2000 batches). You may need to use the repeat() function when building your dataset.\n",
            "WARNING:tensorflow:Your input ran out of data; interrupting training. Make sure that your dataset or generator can generate at least `steps_per_epoch * epochs` batches (in this case, 50 batches). You may need to use the repeat() function when building your dataset.\n",
            "100/100 [==============================] - 18s 169ms/step - loss: 0.6954 - acc: 0.5188 - val_loss: 0.6900 - val_acc: 0.5000\n"
          ],
          "name": "stdout"
        }
      ]
    },
    {
      "cell_type": "markdown",
      "metadata": {
        "id": "BRdU5yrkUF_b"
      },
      "source": [
        "# Task 2:\n",
        "\n",
        "We have used Dropout to enhance the performance of the CNN model. Can you please use whatever you like to further enhance the performance from `val_acc: 0.7506`? "
      ]
    },
    {
      "cell_type": "code",
      "metadata": {
        "id": "XD-Qkl8UMbUK",
        "colab": {
          "base_uri": "https://localhost:8080/"
        },
        "outputId": "182aec98-c8ba-49a7-b2c6-5b9b17590cc3"
      },
      "source": [
        "from keras import layers\n",
        "from keras import models\n",
        "\n",
        "model = models.Sequential()\n",
        "model.add(layers.Conv2D(32, (3, 3), activation='relu', input_shape=(150, 150, 3)))\n",
        "model.add(layers.MaxPooling2D((2, 2)))\n",
        "model.add(layers.Conv2D(64, (3, 3), activation='relu'))\n",
        "model.add(layers.MaxPooling2D((2, 2)))\n",
        "model.add(layers.Conv2D(128, (3, 3), activation='relu'))\n",
        "model.add(layers.MaxPooling2D((2, 2)))\n",
        "model.add(layers.Conv2D(128, (3, 3), activation='relu'))\n",
        "model.add(layers.MaxPooling2D((2, 2)))\n",
        "model.add(layers.Flatten())\n",
        "model.add(layers.Dense(512, activation='relu'))\n",
        "model.add(layers.Dense(1, activation='sigmoid'))\n",
        "model.summary()"
      ],
      "execution_count": 19,
      "outputs": [
        {
          "output_type": "stream",
          "text": [
            "Model: \"sequential_2\"\n",
            "_________________________________________________________________\n",
            "Layer (type)                 Output Shape              Param #   \n",
            "=================================================================\n",
            "conv2d_8 (Conv2D)            (None, 148, 148, 32)      896       \n",
            "_________________________________________________________________\n",
            "max_pooling2d_8 (MaxPooling2 (None, 74, 74, 32)        0         \n",
            "_________________________________________________________________\n",
            "conv2d_9 (Conv2D)            (None, 72, 72, 64)        18496     \n",
            "_________________________________________________________________\n",
            "max_pooling2d_9 (MaxPooling2 (None, 36, 36, 64)        0         \n",
            "_________________________________________________________________\n",
            "conv2d_10 (Conv2D)           (None, 34, 34, 128)       73856     \n",
            "_________________________________________________________________\n",
            "max_pooling2d_10 (MaxPooling (None, 17, 17, 128)       0         \n",
            "_________________________________________________________________\n",
            "conv2d_11 (Conv2D)           (None, 15, 15, 128)       147584    \n",
            "_________________________________________________________________\n",
            "max_pooling2d_11 (MaxPooling (None, 7, 7, 128)         0         \n",
            "_________________________________________________________________\n",
            "flatten_2 (Flatten)          (None, 6272)              0         \n",
            "_________________________________________________________________\n",
            "dense_4 (Dense)              (None, 512)               3211776   \n",
            "_________________________________________________________________\n",
            "dense_5 (Dense)              (None, 1)                 513       \n",
            "=================================================================\n",
            "Total params: 3,453,121\n",
            "Trainable params: 3,453,121\n",
            "Non-trainable params: 0\n",
            "_________________________________________________________________\n"
          ],
          "name": "stdout"
        }
      ]
    },
    {
      "cell_type": "code",
      "metadata": {
        "id": "4M_Tsu18Mmkq"
      },
      "source": [
        "from keras import optimizers\n",
        "model.compile(loss='binary_crossentropy',optimizer='adam', metrics=['acc'])"
      ],
      "execution_count": 23,
      "outputs": []
    },
    {
      "cell_type": "code",
      "metadata": {
        "colab": {
          "base_uri": "https://localhost:8080/"
        },
        "id": "bBGfiRotTvJX",
        "outputId": "c9d38f16-be99-42a8-e333-4618d3c966cf"
      },
      "source": [
        "from keras.preprocessing.image import ImageDataGenerator\n",
        "\n",
        "train_datagen = ImageDataGenerator(rescale=1./255)\n",
        "test_datagen = ImageDataGenerator(rescale=1./255)\n",
        "\n",
        "train_generator = train_datagen.flow_from_directory(train_dir,\n",
        "                                                    target_size=(150, 150), \n",
        "                                                    batch_size=20,\n",
        "                                                    class_mode='binary')\n",
        "\n",
        "validation_generator = test_datagen.flow_from_directory(validation_dir,\n",
        "                                                        target_size=(150, 150),\n",
        "                                                        batch_size=20,\n",
        "                                                        class_mode='binary')"
      ],
      "execution_count": 28,
      "outputs": [
        {
          "output_type": "stream",
          "text": [
            "Found 2000 images belonging to 2 classes.\n",
            "Found 1000 images belonging to 2 classes.\n"
          ],
          "name": "stdout"
        }
      ]
    },
    {
      "cell_type": "code",
      "metadata": {
        "colab": {
          "base_uri": "https://localhost:8080/"
        },
        "id": "N9JYBwYyS9Kt",
        "outputId": "e9438378-52a3-451b-c21b-36b63286e20c"
      },
      "source": [
        "history = model.fit_generator(train_generator,\n",
        "                              steps_per_epoch=100,\n",
        "                              epochs=50,\n",
        "                              validation_data=validation_generator,\n",
        "                              validation_steps=10)"
      ],
      "execution_count": 29,
      "outputs": [
        {
          "output_type": "stream",
          "text": [
            "Epoch 1/50\n",
            "\r  1/100 [..............................] - ETA: 7s - loss: 0.6791 - acc: 0.7500"
          ],
          "name": "stdout"
        },
        {
          "output_type": "stream",
          "text": [
            "/usr/local/lib/python3.7/dist-packages/tensorflow/python/keras/engine/training.py:1844: UserWarning: `Model.fit_generator` is deprecated and will be removed in a future version. Please use `Model.fit`, which supports generators.\n",
            "  warnings.warn('`Model.fit_generator` is deprecated and '\n"
          ],
          "name": "stderr"
        },
        {
          "output_type": "stream",
          "text": [
            "100/100 [==============================] - 7s 66ms/step - loss: 0.6886 - acc: 0.5230 - val_loss: 0.6933 - val_acc: 0.5450\n",
            "Epoch 2/50\n",
            "100/100 [==============================] - 6s 64ms/step - loss: 0.6860 - acc: 0.5370 - val_loss: 0.6812 - val_acc: 0.5000\n",
            "Epoch 3/50\n",
            "100/100 [==============================] - 7s 65ms/step - loss: 0.6774 - acc: 0.5755 - val_loss: 0.6493 - val_acc: 0.6300\n",
            "Epoch 4/50\n",
            "100/100 [==============================] - 6s 64ms/step - loss: 0.6739 - acc: 0.5885 - val_loss: 0.6733 - val_acc: 0.5700\n",
            "Epoch 5/50\n",
            "100/100 [==============================] - 6s 64ms/step - loss: 0.6492 - acc: 0.6355 - val_loss: 0.5843 - val_acc: 0.6800\n",
            "Epoch 6/50\n",
            "100/100 [==============================] - 6s 64ms/step - loss: 0.6057 - acc: 0.6870 - val_loss: 0.5991 - val_acc: 0.7150\n",
            "Epoch 7/50\n",
            "100/100 [==============================] - 6s 64ms/step - loss: 0.5486 - acc: 0.7185 - val_loss: 0.6208 - val_acc: 0.6200\n",
            "Epoch 8/50\n",
            "100/100 [==============================] - 6s 64ms/step - loss: 0.5024 - acc: 0.7550 - val_loss: 0.6584 - val_acc: 0.6600\n",
            "Epoch 9/50\n",
            "100/100 [==============================] - 6s 64ms/step - loss: 0.4401 - acc: 0.7745 - val_loss: 0.6137 - val_acc: 0.6900\n",
            "Epoch 10/50\n",
            "100/100 [==============================] - 6s 65ms/step - loss: 0.3570 - acc: 0.8430 - val_loss: 0.7237 - val_acc: 0.6850\n",
            "Epoch 11/50\n",
            "100/100 [==============================] - 6s 64ms/step - loss: 0.2826 - acc: 0.8760 - val_loss: 0.6132 - val_acc: 0.7750\n",
            "Epoch 12/50\n",
            "100/100 [==============================] - 6s 64ms/step - loss: 0.1862 - acc: 0.9290 - val_loss: 0.8916 - val_acc: 0.7000\n",
            "Epoch 13/50\n",
            "100/100 [==============================] - 6s 64ms/step - loss: 0.1677 - acc: 0.9350 - val_loss: 1.0054 - val_acc: 0.6650\n",
            "Epoch 14/50\n",
            "100/100 [==============================] - 6s 65ms/step - loss: 0.1230 - acc: 0.9535 - val_loss: 1.2757 - val_acc: 0.6400\n",
            "Epoch 15/50\n",
            "100/100 [==============================] - 6s 63ms/step - loss: 0.0868 - acc: 0.9730 - val_loss: 1.4099 - val_acc: 0.6600\n",
            "Epoch 16/50\n",
            "100/100 [==============================] - 6s 64ms/step - loss: 0.0238 - acc: 0.9955 - val_loss: 1.5274 - val_acc: 0.7450\n",
            "Epoch 17/50\n",
            "100/100 [==============================] - 6s 64ms/step - loss: 0.0120 - acc: 0.9970 - val_loss: 1.8556 - val_acc: 0.7350\n",
            "Epoch 18/50\n",
            "100/100 [==============================] - 6s 64ms/step - loss: 0.0364 - acc: 0.9915 - val_loss: 1.1663 - val_acc: 0.7500\n",
            "Epoch 19/50\n",
            "100/100 [==============================] - 6s 64ms/step - loss: 0.0197 - acc: 0.9945 - val_loss: 1.8282 - val_acc: 0.7150\n",
            "Epoch 20/50\n",
            "100/100 [==============================] - 6s 63ms/step - loss: 0.0466 - acc: 0.9880 - val_loss: 1.7363 - val_acc: 0.7050\n",
            "Epoch 21/50\n",
            "100/100 [==============================] - 6s 64ms/step - loss: 0.0179 - acc: 0.9980 - val_loss: 1.9134 - val_acc: 0.6950\n",
            "Epoch 22/50\n",
            "100/100 [==============================] - 6s 64ms/step - loss: 0.0016 - acc: 1.0000 - val_loss: 1.5823 - val_acc: 0.7100\n",
            "Epoch 23/50\n",
            "100/100 [==============================] - 6s 64ms/step - loss: 6.5627e-04 - acc: 1.0000 - val_loss: 2.3651 - val_acc: 0.6650\n",
            "Epoch 24/50\n",
            "100/100 [==============================] - 6s 64ms/step - loss: 3.6075e-04 - acc: 1.0000 - val_loss: 1.9248 - val_acc: 0.7000\n",
            "Epoch 25/50\n",
            "100/100 [==============================] - 6s 64ms/step - loss: 2.6024e-04 - acc: 1.0000 - val_loss: 1.8887 - val_acc: 0.7500\n",
            "Epoch 26/50\n",
            "100/100 [==============================] - 6s 64ms/step - loss: 1.9950e-04 - acc: 1.0000 - val_loss: 1.6132 - val_acc: 0.7400\n",
            "Epoch 27/50\n",
            "100/100 [==============================] - 6s 64ms/step - loss: 1.5882e-04 - acc: 1.0000 - val_loss: 1.8587 - val_acc: 0.7450\n",
            "Epoch 28/50\n",
            "100/100 [==============================] - 6s 63ms/step - loss: 1.3061e-04 - acc: 1.0000 - val_loss: 2.1981 - val_acc: 0.7450\n",
            "Epoch 29/50\n",
            "100/100 [==============================] - 7s 65ms/step - loss: 1.0816e-04 - acc: 1.0000 - val_loss: 2.6239 - val_acc: 0.7050\n",
            "Epoch 30/50\n",
            "100/100 [==============================] - 6s 64ms/step - loss: 8.9605e-05 - acc: 1.0000 - val_loss: 2.5822 - val_acc: 0.7100\n",
            "Epoch 31/50\n",
            "100/100 [==============================] - 6s 64ms/step - loss: 6.9974e-05 - acc: 1.0000 - val_loss: 2.5904 - val_acc: 0.6800\n",
            "Epoch 32/50\n",
            "100/100 [==============================] - 6s 63ms/step - loss: 5.7438e-05 - acc: 1.0000 - val_loss: 1.8767 - val_acc: 0.7500\n",
            "Epoch 33/50\n",
            "100/100 [==============================] - 6s 63ms/step - loss: 4.4338e-05 - acc: 1.0000 - val_loss: 2.4755 - val_acc: 0.7150\n",
            "Epoch 34/50\n",
            "100/100 [==============================] - 6s 65ms/step - loss: 3.6498e-05 - acc: 1.0000 - val_loss: 2.4616 - val_acc: 0.7250\n",
            "Epoch 35/50\n",
            "100/100 [==============================] - 6s 64ms/step - loss: 2.8275e-05 - acc: 1.0000 - val_loss: 2.3504 - val_acc: 0.7050\n",
            "Epoch 36/50\n",
            "100/100 [==============================] - 6s 64ms/step - loss: 2.2604e-05 - acc: 1.0000 - val_loss: 2.0999 - val_acc: 0.7200\n",
            "Epoch 37/50\n",
            "100/100 [==============================] - 6s 64ms/step - loss: 1.9682e-05 - acc: 1.0000 - val_loss: 2.4949 - val_acc: 0.6950\n",
            "Epoch 38/50\n",
            "100/100 [==============================] - 6s 63ms/step - loss: 1.5964e-05 - acc: 1.0000 - val_loss: 2.3126 - val_acc: 0.7550\n",
            "Epoch 39/50\n",
            "100/100 [==============================] - 6s 64ms/step - loss: 1.3223e-05 - acc: 1.0000 - val_loss: 2.7614 - val_acc: 0.7100\n",
            "Epoch 40/50\n",
            "100/100 [==============================] - 6s 64ms/step - loss: 1.1306e-05 - acc: 1.0000 - val_loss: 3.3060 - val_acc: 0.6600\n",
            "Epoch 41/50\n",
            "100/100 [==============================] - 6s 64ms/step - loss: 9.6381e-06 - acc: 1.0000 - val_loss: 2.7098 - val_acc: 0.7150\n",
            "Epoch 42/50\n",
            "100/100 [==============================] - 6s 63ms/step - loss: 8.1731e-06 - acc: 1.0000 - val_loss: 2.4235 - val_acc: 0.7400\n",
            "Epoch 43/50\n",
            "100/100 [==============================] - 6s 63ms/step - loss: 7.1046e-06 - acc: 1.0000 - val_loss: 3.4802 - val_acc: 0.6650\n",
            "Epoch 44/50\n",
            "100/100 [==============================] - 6s 64ms/step - loss: 6.0175e-06 - acc: 1.0000 - val_loss: 2.5035 - val_acc: 0.7100\n",
            "Epoch 45/50\n",
            "100/100 [==============================] - 6s 64ms/step - loss: 5.3804e-06 - acc: 1.0000 - val_loss: 2.6803 - val_acc: 0.7000\n",
            "Epoch 46/50\n",
            "100/100 [==============================] - 6s 63ms/step - loss: 4.5997e-06 - acc: 1.0000 - val_loss: 3.4939 - val_acc: 0.6950\n",
            "Epoch 47/50\n",
            "100/100 [==============================] - 7s 65ms/step - loss: 3.9788e-06 - acc: 1.0000 - val_loss: 2.8858 - val_acc: 0.7250\n",
            "Epoch 48/50\n",
            "100/100 [==============================] - 6s 64ms/step - loss: 3.5768e-06 - acc: 1.0000 - val_loss: 3.2128 - val_acc: 0.6900\n",
            "Epoch 49/50\n",
            "100/100 [==============================] - 6s 64ms/step - loss: 3.1061e-06 - acc: 1.0000 - val_loss: 2.5519 - val_acc: 0.7250\n",
            "Epoch 50/50\n",
            "100/100 [==============================] - 6s 64ms/step - loss: 2.7429e-06 - acc: 1.0000 - val_loss: 3.5236 - val_acc: 0.7350\n"
          ],
          "name": "stdout"
        }
      ]
    },
    {
      "cell_type": "code",
      "metadata": {
        "colab": {
          "base_uri": "https://localhost:8080/",
          "height": 545
        },
        "id": "N-QkymGFTRMD",
        "outputId": "3206440b-edbc-434d-fbbe-74c76f3ee44d"
      },
      "source": [
        "model.save('cats_and_dogs_small_1.h5')\n",
        "\n",
        "import matplotlib.pyplot as plt\n",
        "\n",
        "acc = history.history['acc']\n",
        "val_acc = history.history['val_acc']\n",
        "loss = history.history['loss']\n",
        "val_loss = history.history['val_loss']\n",
        "\n",
        "epochs = range(1, len(acc) + 1)\n",
        "\n",
        "plt.plot(epochs, acc, 'bo', label='Training acc')\n",
        "plt.plot(epochs, val_acc, 'b', label='Validation acc')\n",
        "plt.title('Training and validation accuracy')\n",
        "plt.legend()\n",
        "\n",
        "plt.figure()\n",
        "\n",
        "plt.plot(epochs, loss, 'bo', label='Training loss')\n",
        "plt.plot(epochs, val_loss, 'b', label='Validation loss')\n",
        "plt.title('Training and validation loss')\n",
        "plt.legend()\n",
        "\n",
        "plt.show()"
      ],
      "execution_count": 30,
      "outputs": [
        {
          "output_type": "display_data",
          "data": {
            "image/png": "[encoded data removed]",
            "text/plain": [
              "<Figure size 432x288 with 1 Axes>"
            ]
          },
          "metadata": {
            "tags": [],
            "needs_background": "light"
          }
        },
        {
          "output_type": "display_data",
          "data": {
            "image/png": "[encoded data removed]",
            "text/plain": [
              "<Figure size 432x288 with 1 Axes>"
            ]
          },
          "metadata": {
            "tags": [],
            "needs_background": "light"
          }
        }
      ]
    }
  ]
}